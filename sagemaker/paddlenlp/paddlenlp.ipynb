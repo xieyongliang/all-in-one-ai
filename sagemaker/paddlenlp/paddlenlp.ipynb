{
 "cells": [
  {
   "cell_type": "code",
   "execution_count": 1,
   "id": "76381050",
   "metadata": {},
   "outputs": [],
   "source": [
    "#Prior to execute this notebook, please make sure you have already cloned the sample data\n",
    "#!git clone https://github.com/xieyongliang/all-in-one-ai-sample-data.git ../../../all-in-one-ai-sample-data"
   ]
  },
  {
   "cell_type": "code",
   "execution_count": 31,
   "id": "7437fd94",
   "metadata": {},
   "outputs": [],
   "source": [
    "import sagemaker\n",
    "from sagemaker.pytorch import PyTorch"
   ]
  },
  {
   "cell_type": "code",
   "execution_count": 2,
   "id": "46aabd91",
   "metadata": {},
   "outputs": [],
   "source": [
    "sagemaker_session = sagemaker.Session()\n",
    "bucket = sagemaker_session.default_bucket()\n",
    "role = sagemaker.get_execution_role()"
   ]
  },
  {
   "cell_type": "code",
   "execution_count": null,
   "id": "8329741e",
   "metadata": {},
   "outputs": [],
   "source": [
    "!rm -rf sourcedir.tar.gz\n",
    "!tar czvf sourcedir.tar.gz *"
   ]
  },
  {
   "cell_type": "code",
   "execution_count": null,
   "id": "02a4f091",
   "metadata": {},
   "outputs": [],
   "source": [
    "source_dir = 's3://{0}/{1}/source/'.format(bucket, 'paddlenlp')\n",
    "!aws s3 cp sourcedir.tar.gz $source_dir\n",
    "source_dir = '{0}sourcedir.tar.gz'.format(source_dir)\n",
    "!rm -f sourcedir.tar.gz"
   ]
  },
  {
   "cell_type": "code",
   "execution_count": null,
   "id": "2e1f61db",
   "metadata": {},
   "outputs": [],
   "source": [
    "train_dir = 's3://{0}/{1}/data/train'.format(bucket, 'paddlenlp')\n",
    "!aws s3 cp ../../../all-in-one-ai-sample-data/paddlenlp/train/ $train_dir --recursive"
   ]
  },
  {
   "cell_type": "code",
   "execution_count": 17,
   "id": "102bf195",
   "metadata": {},
   "outputs": [],
   "source": [
    "job_name = None\n",
    "entry_point = 'finetune.py'\n",
    "git_config = None\n",
    "role = role\n",
    "hyperparameters = {\n",
    "    'train_path': '/opt/ml/input/data/dataset/train.txt',\n",
    "    'dev_path': '/opt/ml/input/data/dataset/dev.txt', \n",
    "    'save_dir': '/opt/ml/model',                 \n",
    "    'batch_size' : 16, \n",
    "    'learning_rate' : 1e-5, \n",
    "    'max_seq_len' : 512,\n",
    "    'num_epochs' : 100,\n",
    "    'seed' : 1000,\n",
    "    'logging_steps': 10,\n",
    "    'valid_steps': 100,\n",
    "    'device': 'gpu',\n",
    "    'model': 'uie-base'\n",
    "}\n",
    "framework_version = '1.9.0'\n",
    "py_version = 'py38'\n",
    "instance_type = 'ml.g4dn.16xlarge'\n",
    "instance_count = 1\n",
    "inputs = {\n",
    "    'dataset': train_dir\n",
    "}"
   ]
  },
  {
   "cell_type": "code",
   "execution_count": 19,
   "id": "42ea6c2d",
   "metadata": {},
   "outputs": [],
   "source": [
    "estimator = PyTorch(\n",
    "    entry_point = entry_point,\n",
    "    source_dir = source_dir,\n",
    "    git_config = git_config,\n",
    "    role = role,\n",
    "    debugger_hook_config = False,\n",
    "    hyperparameters = hyperparameters,\n",
    "    framework_version = framework_version, \n",
    "    py_version = py_version,\n",
    "    instance_type = instance_type,\n",
    "    instance_count = instance_count\n",
    ")"
   ]
  },
  {
   "cell_type": "code",
   "execution_count": null,
   "id": "4e9c171f",
   "metadata": {},
   "outputs": [],
   "source": [
    "estimator.fit(inputs, job_name = job_name)"
   ]
  },
  {
   "cell_type": "code",
   "execution_count": 66,
   "id": "2b001d2f",
   "metadata": {},
   "outputs": [],
   "source": [
    "sample_dir ='../../../all-in-one-ai-sample-data/paddlenlp/inference/sample'"
   ]
  },
  {
   "cell_type": "code",
   "execution_count": 67,
   "id": "10ef3ed5",
   "metadata": {},
   "outputs": [],
   "source": [
    "from os import listdir\n",
    "from os.path import isfile, join\n",
    "\n",
    "files = [f for f in listdir(sample_dir) if isfile(join(sample_dir, f))]"
   ]
  },
  {
   "cell_type": "code",
   "execution_count": 70,
   "id": "258d7e35",
   "metadata": {},
   "outputs": [],
   "source": [
    "inputs  = open(join(sample_dir, files[0]), 'r').read()"
   ]
  },
  {
   "cell_type": "code",
   "execution_count": 72,
   "id": "7e8dbec3",
   "metadata": {},
   "outputs": [],
   "source": [
    "training_job_name = estimator.latest_training_job.name"
   ]
  },
  {
   "cell_type": "code",
   "execution_count": 73,
   "id": "806d6f9b",
   "metadata": {},
   "outputs": [],
   "source": [
    "model_name = None\n",
    "model_data='s3://{}/{}/output/model.tar.gz'.format(bucket, training_job_name)\n",
    "entry_point = 'inference.py'\n",
    "framework_version = '1.9.0'\n",
    "py_version = 'py38'\n",
    "model_environment = {\n",
    "    'schema': '[\"出发地\", \"目的地\", \"费用\", \"时间\"]'\n",
    "}"
   ]
  },
  {
   "cell_type": "code",
   "execution_count": 74,
   "id": "c6ba012e",
   "metadata": {},
   "outputs": [],
   "source": [
    "from sagemaker.pytorch.model import PyTorchModel\n",
    "\n",
    "model = PyTorchModel(\n",
    "    name = model_name,\n",
    "    model_data = model_data,\n",
    "    entry_point = entry_point,\n",
    "    source_dir = source_dir,\n",
    "    role = role,\n",
    "    framework_version = framework_version, \n",
    "    py_version = py_version,\n",
    "    env = model_environment\n",
    ")"
   ]
  },
  {
   "cell_type": "code",
   "execution_count": 45,
   "id": "91ba9030",
   "metadata": {},
   "outputs": [],
   "source": [
    "endpoint_name = None\n",
    "instance_type = 'ml.m5.xlarge'\n",
    "instance_count = 1"
   ]
  },
  {
   "cell_type": "code",
   "execution_count": null,
   "id": "d125c6b6",
   "metadata": {},
   "outputs": [],
   "source": [
    "predictor = model.deploy(\n",
    "    endpoint_name = endpoint_name,\n",
    "    instance_type = instance_type, \n",
    "    initial_instance_count = instance_count\n",
    ")"
   ]
  },
  {
   "cell_type": "code",
   "execution_count": null,
   "id": "52efc663",
   "metadata": {},
   "outputs": [],
   "source": [
    "from os import listdir\n",
    "from os.path import isfile, join\n",
    "\n",
    "sample_dir ='../../../all-in-one-ai-sample-data/paddlenlp/inference/sample'\n",
    "files = [f for f in listdir(sample_dir) if isfile(join(sample_dir, f))]\n",
    "\n",
    "inputs  = open(join(sample_dir, files[0]), 'r').read()"
   ]
  },
  {
   "cell_type": "code",
   "execution_count": null,
   "id": "151e454d",
   "metadata": {},
   "outputs": [],
   "source": [
    "from sagemaker.serializers import JSONSerializer\n",
    "from sagemaker.deserializers import JSONDeserializer\n",
    "\n",
    "predictor.serializer = JSONSerializer()\n",
    "predictor.deserializer = JSONDeserializer()\n",
    "\n",
    "predictor.predict(\n",
    "    {\n",
    "        \"inputs\": inputs\n",
    "    }\n",
    ")"
   ]
  },
  {
   "cell_type": "code",
   "execution_count": null,
   "id": "2b379b4d",
   "metadata": {},
   "outputs": [],
   "source": [
    "predictor.delete_endpoint()"
   ]
  }
 ],
 "metadata": {
  "kernelspec": {
   "display_name": "Python 3.9.12 64-bit",
   "language": "python",
   "name": "python3"
  },
  "language_info": {
   "codemirror_mode": {
    "name": "ipython",
    "version": 3
   },
   "file_extension": ".py",
   "mimetype": "text/x-python",
   "name": "python",
   "nbconvert_exporter": "python",
   "pygments_lexer": "ipython3",
   "version": "3.9.13"
  },
  "vscode": {
   "interpreter": {
    "hash": "aee8b7b246df8f9039afb4144a1f6fd8d2ca17a180786b69acc140d282b71a49"
   }
  }
 },
 "nbformat": 4,
 "nbformat_minor": 5
}
