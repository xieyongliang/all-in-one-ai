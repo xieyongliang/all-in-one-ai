{
 "cells": [
  {
   "cell_type": "code",
   "execution_count": 19,
   "id": "ab442d14",
   "metadata": {},
   "outputs": [],
   "source": [
    "#Prior to execute this notebook, please make sure you have already cloned the sample data\n",
    "#!git clone https://github.com/xieyongliang/all-in-one-ai-sample-data.git ../../../all-in-one-ai-sample-data"
   ]
  },
  {
   "cell_type": "code",
   "execution_count": 20,
   "id": "6f52a9e5",
   "metadata": {},
   "outputs": [],
   "source": [
    "import os\n",
    "import sagemaker"
   ]
  },
  {
   "cell_type": "code",
   "execution_count": 21,
   "id": "23362925",
   "metadata": {},
   "outputs": [],
   "source": [
    "sagemaker_session = sagemaker.Session()\n",
    "bucket = sagemaker_session.default_bucket()\n",
    "role = sagemaker.get_execution_role()"
   ]
  },
  {
   "cell_type": "code",
   "execution_count": 22,
   "id": "469702a3",
   "metadata": {},
   "outputs": [],
   "source": [
    "model_name = None\n",
    "model_data = None\n",
    "hub = {\n",
    "        'HF_MODEL_ID':'MoritzLaurer/mDeBERTa-v3-base-mnli-xnli',\n",
    "        'HF_TASK':'zero-shot-classification'\n",
    "    } \n",
    "transformers_version = '4.6.1'\n",
    "pytorch_version = '1.7.1'\n",
    "tensorflow_version = None\n",
    "entry_point = None\n",
    "py_version = 'py36'"
   ]
  },
  {
   "cell_type": "code",
   "execution_count": 23,
   "id": "94503f5a",
   "metadata": {},
   "outputs": [],
   "source": [
    "from sagemaker.huggingface.model import HuggingFaceModel\n",
    "\n",
    "model = HuggingFaceModel(\n",
    "    role = role,\n",
    "    model_data = model_data,\n",
    "    entry_point = entry_point,\n",
    "    transformers_version = transformers_version,\n",
    "    tensorflow_version = tensorflow_version,\n",
    "    pytorch_version = pytorch_version,\n",
    "    py_version = py_version,\n",
    "    env = hub\n",
    ")\n"
   ]
  },
  {
   "cell_type": "code",
   "execution_count": 24,
   "id": "a3dd0309",
   "metadata": {},
   "outputs": [],
   "source": [
    "endpoint_name = None\n",
    "instance_type = 'ml.m5.xlarge'\n",
    "instance_count = 1"
   ]
  },
  {
   "cell_type": "code",
   "execution_count": null,
   "id": "7b079d44",
   "metadata": {},
   "outputs": [],
   "source": [
    "predictor = model.deploy(\n",
    "    endpoint_name = endpoint_name,\n",
    "    instance_type = instance_type, \n",
    "    initial_instance_count = instance_count\n",
    ")"
   ]
  },
  {
   "cell_type": "code",
   "execution_count": 26,
   "id": "b5af5110",
   "metadata": {},
   "outputs": [],
   "source": [
    "from os import listdir\n",
    "from os.path import isfile, join\n",
    "\n",
    "sample_dir ='../../../all-in-one-ai-sample-data/mdeberta/inference/sample'\n",
    "files = [f for f in listdir(sample_dir) if isfile(join(sample_dir, f))]\n",
    "\n",
    "inputs  = open(join(sample_dir, files[0]), 'r').read()"
   ]
  },
  {
   "cell_type": "code",
   "execution_count": null,
   "id": "5803a22d",
   "metadata": {},
   "outputs": [],
   "source": [
    "from sagemaker.serializers import JSONSerializer\n",
    "from sagemaker.deserializers import JSONDeserializer\n",
    "import json\n",
    "\n",
    "predictor.serializer = JSONSerializer()\n",
    "predictor.deserializer = JSONDeserializer()\n",
    "\n",
    "predictor.predict(\n",
    "    {\n",
    "        'inputs': json.loads(inputs)['data'], \n",
    "        'parameters': {\n",
    "            'candidate_labels': json.loads(inputs)['labels']\n",
    "        }\n",
    "    }\n",
    ")"
   ]
  },
  {
   "cell_type": "code",
   "execution_count": 18,
   "id": "dc3f43ff",
   "metadata": {},
   "outputs": [],
   "source": [
    "predictor.delete_endpoint()"
   ]
  },
  {
   "cell_type": "code",
   "execution_count": null,
   "id": "e58c3e84",
   "metadata": {},
   "outputs": [],
   "source": []
  }
 ],
 "metadata": {
  "kernelspec": {
   "display_name": "Python 3.9.12 64-bit",
   "language": "python",
   "name": "python3"
  },
  "language_info": {
   "codemirror_mode": {
    "name": "ipython",
    "version": 3
   },
   "file_extension": ".py",
   "mimetype": "text/x-python",
   "name": "python",
   "nbconvert_exporter": "python",
   "pygments_lexer": "ipython3",
   "version": "3.9.13"
  },
  "vscode": {
   "interpreter": {
    "hash": "aee8b7b246df8f9039afb4144a1f6fd8d2ca17a180786b69acc140d282b71a49"
   }
  }
 },
 "nbformat": 4,
 "nbformat_minor": 5
}
