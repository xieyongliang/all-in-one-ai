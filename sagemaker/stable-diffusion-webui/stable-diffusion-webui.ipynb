{
 "cells": [
  {
   "cell_type": "code",
   "execution_count": null,
   "id": "721e14bb",
   "metadata": {},
   "outputs": [],
   "source": [
    "import sagemaker"
   ]
  },
  {
   "cell_type": "code",
   "execution_count": null,
   "id": "c9425395",
   "metadata": {},
   "outputs": [],
   "source": [
    "sagemaker_session = sagemaker.Session()\n",
    "bucket = sagemaker_session.default_bucket()\n",
    "role = sagemaker.get_execution_role()"
   ]
  },
  {
   "cell_type": "code",
   "execution_count": null,
   "id": "6016ec68",
   "metadata": {},
   "outputs": [],
   "source": [
    "import boto3\n",
    "account_id = boto3.client('sts').get_caller_identity().get('Account')\n",
    "region_name = boto3.session.Session().region_name"
   ]
  },
  {
   "cell_type": "code",
   "execution_count": null,
   "id": "a4df9776",
   "metadata": {},
   "outputs": [],
   "source": [
    "model_data = \"s3://{0}/stable-diffusion-webui/assets/model.tar.gz\".format(bucket)\n",
    "model_name = None\n",
    "image_uri = '{0}.dkr.ecr.{1}.amazonaws.com/all-in-one-ai-stable-diffusion-webui-inference:latest'.format(account_id, region_name)\n",
    "base_name = sagemaker.utils.base_name_from_image(image_uri)\n",
    "endpoint_name = sagemaker.utils.name_from_base(base_name)\n",
    "model_environment = {\n",
    "    'embeddings_s3uri': 's3://{0}/stable-diffusion-webui/embeddings/'.format(bucket), \n",
    "    'hypernetwork_s3uri': 's3://{0}/stable-diffusion-webui/hypernetwork/'.format(bucket), \n",
    "    'api_endpoint': 'noapi',\n",
    "    'ckpt': '/opt/ml/model/768-v-ema.ckpt',\n",
    "    'SAGEMAKER_MODEL_SERVER_TIMEOUT': '1200',\n",
    "    'endpoint_name': endpoint_name\n",
    "}"
   ]
  },
  {
   "cell_type": "code",
   "execution_count": null,
   "id": "974688b8",
   "metadata": {},
   "outputs": [],
   "source": [
    "from sagemaker.model import Model\n",
    "from sagemaker.predictor import Predictor"
   ]
  },
  {
   "cell_type": "code",
   "execution_count": null,
   "id": "53d421d5",
   "metadata": {},
   "outputs": [],
   "source": [
    "model = Model(\n",
    "    name = model_name,\n",
    "    model_data = model_data,\n",
    "    role = role,\n",
    "    image_uri = image_uri,\n",
    "    env = model_environment,\n",
    "    predictor_cls = Predictor\n",
    ")"
   ]
  },
  {
   "cell_type": "code",
   "execution_count": null,
   "id": "be4da136",
   "metadata": {},
   "outputs": [],
   "source": [
    "from sagemaker.async_inference import AsyncInferenceConfig\n",
    "instance_type = 'ml.g4dn.2xlarge'\n",
    "instance_count = 1\n",
    "async_config = AsyncInferenceConfig(output_path='s3://{0}/{1}/asyncinvoke/out/'.format(bucket, 'stable-diffusion-webui'))"
   ]
  },
  {
   "cell_type": "code",
   "execution_count": null,
   "id": "adb508a4",
   "metadata": {},
   "outputs": [],
   "source": [
    "predictor = model.deploy(\n",
    "    endpoint_name = endpoint_name,\n",
    "    instance_type = instance_type, \n",
    "    initial_instance_count = instance_count,\n",
    "    async_inference_config = async_config\n",
    ")"
   ]
  },
  {
   "cell_type": "code",
   "execution_count": null,
   "id": "01d00e4c",
   "metadata": {},
   "outputs": [],
   "source": [
    "from sagemaker.serializers import JSONSerializer\n",
    "from sagemaker.deserializers import JSONDeserializer\n",
    "\n",
    "predictor.serializer = JSONSerializer()\n",
    "predictor.deserializer = JSONDeserializer()\n",
    "\n",
    "inputs = {\n",
    "    'task': 'text-to-image', \n",
    "    'txt2img_payload': {\n",
    "        'enable_hr': False, \n",
    "        'denoising_strength': 0.7, \n",
    "        'firstphase_width': 0, \n",
    "        'firstphase_height': 0, \n",
    "        'prompt': 'girl', \n",
    "        'styles': ['None', 'None'], \n",
    "        'seed': -1.0, \n",
    "        'subseed': -1.0, \n",
    "        'subseed_strength': 0, \n",
    "        'seed_resize_from_h': 0, \n",
    "        'seed_resize_from_w': 0, \n",
    "        'sampler_index': 'Euler a', \n",
    "        'batch_size': 1, \n",
    "        'n_iter': 1, \n",
    "        'steps': 20, \n",
    "        'cfg_scale': 7, \n",
    "        'width': 768, \n",
    "        'height': 768, \n",
    "        'restore_faces': False, \n",
    "        'tiling': False, \n",
    "        'negative_prompt': '', \n",
    "        'eta': 1, \n",
    "        's_churn': 0, \n",
    "        's_tmax': None, \n",
    "        's_tmin': 0, \n",
    "        's_noise': 1, \n",
    "        'override_settings': {}, \n",
    "        'script_args': '[0, false, false, false, \"\", 1, \"\", 0, \"\", true, false, false]'}, \n",
    "        'username': ''\n",
    "}\n",
    "\n",
    "prediction = predictor.predict_async(inputs)"
   ]
  },
  {
   "cell_type": "code",
   "execution_count": null,
   "id": "ddd0aad5",
   "metadata": {},
   "outputs": [],
   "source": [
    "from sagemaker.async_inference.waiter_config import WaiterConfig\n",
    "print(f\"Response object: {prediction}\")\n",
    "print(f\"Response output path: {prediction.output_path}\")\n",
    "print(\"Start Polling to get response:\")\n",
    "\n",
    "import time\n",
    "\n",
    "start = time.time()\n",
    "\n",
    "config = WaiterConfig(\n",
    "  max_attempts=100, #  number of attempts\n",
    "  delay=10 #  time in seconds to wait between attempts\n",
    "  )\n",
    "\n",
    "prediction.get_result(config)\n",
    "\n",
    "print(f\"Time taken: {time.time() - start}s\")"
   ]
  },
  {
   "cell_type": "code",
   "execution_count": null,
   "id": "02663546",
   "metadata": {},
   "outputs": [],
   "source": [
    "import json\n",
    "import io\n",
    "from PIL import Image\n",
    "s3_resource = boto3.resource('s3')\n",
    "\n",
    "def get_bucket_and_key(s3uri):\n",
    "    pos = s3uri.find('/', 5)\n",
    "    bucket = s3uri[5 : pos]\n",
    "    key = s3uri[pos + 1 : ]\n",
    "    return bucket, key"
   ]
  },
  {
   "cell_type": "code",
   "execution_count": null,
   "id": "6bc78a2d",
   "metadata": {},
   "outputs": [],
   "source": [
    "import traceback\n",
    "from PIL import Image\n",
    "import base64\n",
    "try:\n",
    "    bucket, key = get_bucket_and_key(prediction.output_path)\n",
    "    obj = s3_resource.Object(bucket, key)\n",
    "    body = obj.get()['Body'].read().decode('utf-8') \n",
    "    for image in json.loads(body)['images']:\n",
    "        image = Image.open(io.BytesIO(base64.b64decode(image)))\n",
    "        image.show()\n",
    "except Exception as e:\n",
    "    traceback.print_exc()\n",
    "    print(e)"
   ]
  },
  {
   "cell_type": "code",
   "execution_count": null,
   "id": "79e4de0d",
   "metadata": {},
   "outputs": [],
   "source": [
    "def create_autoscaling_group_for_sagemaker_endpoint(endpoint_name, min_capcity = 1, max_capcity = 2, target_value = 5):\n",
    "    # application-autoscaling client\n",
    "    asg_client = boto3.client(\"application-autoscaling\")\n",
    "\n",
    "    # This is the format in which application autoscaling references the endpoint\n",
    "    resource_id = f\"endpoint/{endpoint_name}/variant/AllTraffic\"\n",
    "\n",
    "    # Configure Autoscaling on asynchronous endpoint down to zero instances\n",
    "    response = asg_client.register_scalable_target(\n",
    "        ServiceNamespace=\"sagemaker\",\n",
    "        ResourceId=resource_id,\n",
    "        ScalableDimension=\"sagemaker:variant:DesiredInstanceCount\",\n",
    "        MinCapacity=min_capcity,\n",
    "        MaxCapacity=max_capcity,\n",
    "    )\n",
    "\n",
    "    response = asg_client.put_scaling_policy(\n",
    "        PolicyName=f'Request-ScalingPolicy-{endpoint_name}',\n",
    "        ServiceNamespace=\"sagemaker\",\n",
    "        ResourceId=resource_id,\n",
    "        ScalableDimension=\"sagemaker:variant:DesiredInstanceCount\",\n",
    "        PolicyType=\"TargetTrackingScaling\",\n",
    "        TargetTrackingScalingPolicyConfiguration={\n",
    "            \"TargetValue\": target_value,\n",
    "            \"CustomizedMetricSpecification\": {\n",
    "                \"MetricName\": \"ApproximateBacklogSizePerInstance\",\n",
    "                \"Namespace\": \"AWS/SageMaker\",\n",
    "                \"Dimensions\": [{\"Name\": \"EndpointName\", \"Value\": endpoint_name}],\n",
    "                \"Statistic\": \"Average\",\n",
    "            },\n",
    "            \"ScaleInCooldown\": 600, # duration until scale in begins (down to zero)\n",
    "            \"ScaleOutCooldown\": 300 # duration between scale out attempts\n",
    "        },\n",
    "    )\n",
    "\n",
    "create_autoscaling_group_for_sagemaker_endpoint(predictor.endpoint_name)"
   ]
  },
  {
   "cell_type": "code",
   "execution_count": null,
   "id": "02fc40a0",
   "metadata": {},
   "outputs": [],
   "source": [
    "predictor.delete_endpoint()"
   ]
  },
  {
   "cell_type": "code",
   "execution_count": null,
   "id": "900ee833",
   "metadata": {},
   "outputs": [],
   "source": [
    "import sagemaker\n",
    "from sagemaker.estimator import Estimator"
   ]
  },
  {
   "cell_type": "code",
   "execution_count": null,
   "id": "8e296c05",
   "metadata": {},
   "outputs": [],
   "source": [
    "sagemaker_session = sagemaker.Session()\n",
    "bucket = sagemaker_session.default_bucket()\n",
    "role = sagemaker.get_execution_role()"
   ]
  },
  {
   "cell_type": "code",
   "execution_count": null,
   "id": "f2ae31a7",
   "metadata": {},
   "outputs": [],
   "source": [
    "import boto3\n",
    "account_id = boto3.client('sts').get_caller_identity().get('Account')\n",
    "region_name = boto3.session.Session().region_name"
   ]
  },
  {
   "cell_type": "code",
   "execution_count": null,
   "id": "15ce6a87",
   "metadata": {},
   "outputs": [],
   "source": [
    "import json\n",
    "images_s3uri = 's3://{0}/stable-diffusion-webui/images/'.format(bucket)\n",
    "models_s3uri = 's3://{0}/stable-diffusion-webui/models/768-v-ema'.format(bucket)\n",
    "embeddings_s3uri = 's3://{0}/stable-diffusion-webui/embeddings/'.format(bucket)\n",
    "hypernetwork_s3uri = 's3://{0}/stable-diffusion-webui/hypernetwork/'.format(bucket)\n",
    "\n",
    "train_args = {\n",
    "  'embedding_settings': {\n",
    "    'name': 'awsdogtoy',\n",
    "    'nvpt': 6,\n",
    "    'overwrite_old': True,\n",
    "    'initialization_text': '*'\n",
    "  },\n",
    "  'images_preprocessing_settings': {\n",
    "    'process_width': 512,\n",
    "    'process_height': 512,\n",
    "    'preprocess_txt_action': 'ignore',\n",
    "    'process_flip': True,\n",
    "    'process_split': False,\n",
    "    'process_caption': False,\n",
    "    'process_caption_deepbooru': True,\n",
    "    'process_split_threshold': 0.5,\n",
    "    'process_overlap_ratio': 0.2,\n",
    "    'process_focal_crop': False,\n",
    "    'process_focal_crop_face_weight': 0.9,\n",
    "    'process_focal_crop_entropy_weight': 0.15,\n",
    "    'process_focal_crop_edges_weight': 0.5,\n",
    "    'process_focal_crop_debug': False\n",
    "  },\n",
    "  'train_embedding_settings': {\n",
    "    'learn_rate': '0.005',\n",
    "    'batch_size': 1,\n",
    "    'gradient_step': 1,\n",
    "    'training_width': 512,\n",
    "    'training_height': 512,\n",
    "    'steps': 3000,\n",
    "    'shuffle_tags': False,\n",
    "    'tag_drop_out': 0,\n",
    "    'latent_sampling_method': 'once',\n",
    "    'create_image_every': 500,\n",
    "    'save_embedding_every': 500,\n",
    "    'save_image_with_stored_embedding': True,\n",
    "    'preview_from_txt2img': False,\n",
    "    'txt2img_preview_params': [\n",
    "      'awsdogtoy',\n",
    "      '',\n",
    "      20,\n",
    "      0,\n",
    "      7,\n",
    "      -1.0,\n",
    "      512,\n",
    "      512\n",
    "    ]\n",
    "  }\n",
    "}\n",
    "\n",
    "def s3uri_contain_files(s3uri):\n",
    "  s3_client = boto3.client('s3')\n",
    "  s3_resource= boto3.resource('s3')\n",
    "  bucket, key = get_bucket_and_key(s3uri)\n",
    "  s3_bucket = s3_resource.Bucket(bucket)\n",
    "  objs = list(s3_bucket.objects.filter(Prefix=key))\n",
    "  return len(objs) > 1\n",
    "\n",
    "def json_encode_hyperparameters(hyperparameters):\n",
    "    for (k, v) in hyperparameters.items():\n",
    "        print(k, v)\n",
    "    \n",
    "    return {str(k): json.dumps(v) for (k, v) in hyperparameters.items()}\n",
    "\n",
    "hyperparameters = {\n",
    "    'train-args': json.dumps(train_args),\n",
    "    'train-task': 'embedding',\n",
    "    'embeddings-s3uri': embeddings_s3uri,\n",
    "    'hypernetwork-s3uri': hypernetwork_s3uri,\n",
    "    'region': region_name,\n",
    "    'api-endpoint': 'noapi'\n",
    "}\n",
    "\n",
    "hyperparameters = json_encode_hyperparameters(hyperparameters)\n",
    "\n",
    "image_uri = '{0}.dkr.ecr.{1}.amazonaws.com/all-in-one-ai-stable-diffusion-webui-training'.format(account_id, region_name)\n",
    "instance_type = 'ml.g4dn.xlarge'\n",
    "instance_count = 1\n",
    "with_embeddings = s3uri_contain_files(embeddings_s3uri)\n",
    "with_hypernetwork = s3uri_contain_files(hypernetwork_s3uri)\n",
    "\n",
    "inputs = {\n",
    "    'images': images_s3uri,\n",
    "    'models': models_s3uri\n",
    "}\n",
    "\n",
    "if with_embeddings:\n",
    "  inputs['embeddings'] = embeddings_s3uri\n",
    "if with_hypernetwork:\n",
    "  inputs['hypernetwork'] = hypernetwork_s3uri"
   ]
  },
  {
   "cell_type": "code",
   "execution_count": null,
   "id": "4eac8794",
   "metadata": {},
   "outputs": [],
   "source": [
    "print(images_s3uri)\n",
    "print(models_s3uri)\n",
    "# Please exectute tools/prepare.py with the path to your model files directory.\n",
    "!aws s3 cp images/ $images_s3uri --recursive"
   ]
  },
  {
   "cell_type": "code",
   "execution_count": null,
   "id": "649aaf75",
   "metadata": {},
   "outputs": [],
   "source": [
    "estimator = Estimator(\n",
    "    role = role,\n",
    "    instance_count=1,\n",
    "    instance_type = instance_type,\n",
    "    image_uri = image_uri,\n",
    "    hyperparameters = hyperparameters\n",
    ")"
   ]
  },
  {
   "cell_type": "code",
   "execution_count": null,
   "id": "7b16efcc",
   "metadata": {},
   "outputs": [],
   "source": [
    "estimator.fit(inputs)"
   ]
  },
  {
   "cell_type": "code",
   "execution_count": null,
   "id": "ca0e0147",
   "metadata": {},
   "outputs": [],
   "source": []
  }
 ],
 "metadata": {
  "kernelspec": {
   "display_name": "conda_pytorch_p39",
   "language": "python",
   "name": "conda_pytorch_p39"
  },
  "language_info": {
   "codemirror_mode": {
    "name": "ipython",
    "version": 3
   },
   "file_extension": ".py",
   "mimetype": "text/x-python",
   "name": "python",
   "nbconvert_exporter": "python",
   "pygments_lexer": "ipython3",
   "version": "3.9.13"
  },
  "vscode": {
   "interpreter": {
    "hash": "949777d72b0d2535278d3dc13498b2535136f6dfe0678499012e853ee9abcab1"
   }
  }
 },
 "nbformat": 4,
 "nbformat_minor": 5
}
