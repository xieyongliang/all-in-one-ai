{
 "cells": [
  {
   "cell_type": "code",
   "execution_count": null,
   "id": "0a21d1c8",
   "metadata": {},
   "outputs": [],
   "source": [
    "#Prior to execute this notebook, please make sure you have already cloned the sample data\n",
    "#!git clone https://github.com/xieyongliang/all-in-one-ai-sample-data.git ../../../all-in-one-ai-sample-data"
   ]
  },
  {
   "cell_type": "code",
   "execution_count": 2,
   "id": "99f3e9b2",
   "metadata": {},
   "outputs": [],
   "source": [
    "import sagemaker\n",
    "from sagemaker.pytorch import PyTorch"
   ]
  },
  {
   "cell_type": "code",
   "execution_count": 3,
   "id": "7344c481",
   "metadata": {},
   "outputs": [],
   "source": [
    "sagemaker_session = sagemaker.Session()\n",
    "bucket = sagemaker_session.default_bucket()\n",
    "role = sagemaker.get_execution_role()"
   ]
  },
  {
   "cell_type": "code",
   "execution_count": null,
   "id": "42cbf265",
   "metadata": {},
   "outputs": [],
   "source": [
    "!rm -rf sourcedir.tar.gz\n",
    "!tar czvf sourcedir.tar.gz *"
   ]
  },
  {
   "cell_type": "code",
   "execution_count": null,
   "id": "2531d363",
   "metadata": {},
   "outputs": [],
   "source": [
    "source_dir = 's3://{0}/{1}/source/'.format(bucket, 'yolov5')\n",
    "!aws s3 cp sourcedir.tar.gz $source_dir\n",
    "source_dir = '{0}sourcedir.tar.gz'.format(source_dir)\n",
    "!rm -f sourcedir.tar.gz"
   ]
  },
  {
   "cell_type": "code",
   "execution_count": null,
   "id": "d590a2f5",
   "metadata": {},
   "outputs": [],
   "source": [
    "train_dir = 's3://{0}/{1}/data/train'.format(bucket, 'yolov5')\n",
    "!aws s3 cp ../../../all-in-one-ai-sample-data/yolov5/train/ $train_dir --recursive"
   ]
  },
  {
   "cell_type": "code",
   "execution_count": 16,
   "id": "0fc269e5",
   "metadata": {},
   "outputs": [],
   "source": [
    "images_dir = 's3://{0}/{1}/data/train/images'.format(bucket, 'yolov5')\n",
    "labels_dir = 's3://{0}/{1}/data/train/labels'.format(bucket, 'yolov5')\n",
    "cfg_dir = 's3://{0}/{1}/data/train/cfg'.format(bucket, 'yolov5')"
   ]
  },
  {
   "cell_type": "code",
   "execution_count": 17,
   "id": "fafb614d",
   "metadata": {},
   "outputs": [],
   "source": [
    "job_name = None\n",
    "entry_point = 'train.py'\n",
    "git_config = {'repo': 'https://github.com/ultralytics/yolov5.git', 'branch': 'v6.2'}\n",
    "role = role\n",
    "hyperparameters = {\n",
    "    'data': '/opt/ml/input/data/cfg/data.yaml', \n",
    "    'cfg': 'yolov5s.yaml', \n",
    "    'weight': 'yolov5s.pt', \n",
    "    'project': '/opt/ml/model/',\n",
    "    'name': 'tutorial', \n",
    "    'img': 640, \n",
    "    'batch': 16, \n",
    "    'epochs': 100,\n",
    "    'device': 0\n",
    "}\n",
    "framework_version = '1.12'\n",
    "py_version = 'py38'\n",
    "instance_type = 'ml.g4dn.16xlarge'\n",
    "instance_count = 1\n",
    "inputs = {\n",
    "    'images': images_dir,\n",
    "    'labels': labels_dir,\n",
    "    'cfg': cfg_dir\n",
    "}"
   ]
  },
  {
   "cell_type": "code",
   "execution_count": 18,
   "id": "5a2113f2",
   "metadata": {},
   "outputs": [],
   "source": [
    "estimator = PyTorch(\n",
    "    entry_point = entry_point,\n",
    "    source_dir = '.',\n",
    "    git_config = git_config,\n",
    "    role = role,\n",
    "    debugger_hook_config = False,\n",
    "    hyperparameters = hyperparameters,\n",
    "    framework_version = framework_version, \n",
    "    py_version = py_version,\n",
    "    instance_type = instance_type,\n",
    "    instance_count = instance_count\n",
    ")"
   ]
  },
  {
   "cell_type": "code",
   "execution_count": null,
   "id": "86d0c028",
   "metadata": {},
   "outputs": [],
   "source": [
    "estimator.fit(inputs, job_name = job_name)"
   ]
  },
  {
   "cell_type": "code",
   "execution_count": 21,
   "id": "9311e44d",
   "metadata": {},
   "outputs": [],
   "source": [
    "training_job_name = estimator.latest_training_job.name"
   ]
  },
  {
   "cell_type": "code",
   "execution_count": 22,
   "id": "8f1c7990",
   "metadata": {},
   "outputs": [],
   "source": [
    "model_name = None\n",
    "model_data='s3://{}/{}/output/model.tar.gz'.format(bucket, training_job_name)\n",
    "entry_point = 'inference.py'\n",
    "framework_version = '1.10.2'\n",
    "py_version = 'py38'\n",
    "model_environment = {}"
   ]
  },
  {
   "cell_type": "code",
   "execution_count": 23,
   "id": "a930606c",
   "metadata": {},
   "outputs": [],
   "source": [
    "from sagemaker.pytorch.model import PyTorchModel\n",
    "\n",
    "model = PyTorchModel(\n",
    "    name = model_name,\n",
    "    model_data = model_data,\n",
    "    entry_point = entry_point,\n",
    "    source_dir = source_dir,\n",
    "    role = role,\n",
    "    framework_version = framework_version, \n",
    "    py_version = py_version,\n",
    "    env = model_environment\n",
    ")"
   ]
  },
  {
   "cell_type": "code",
   "execution_count": 24,
   "id": "9fffda40",
   "metadata": {},
   "outputs": [],
   "source": [
    "endpoint_name = None\n",
    "instance_type = 'ml.m5.xlarge'\n",
    "instance_count = 1"
   ]
  },
  {
   "cell_type": "code",
   "execution_count": null,
   "id": "261a25b7",
   "metadata": {},
   "outputs": [],
   "source": [
    "predictor = model.deploy(\n",
    "    endpoint_name = endpoint_name,\n",
    "    instance_type = instance_type, \n",
    "    initial_instance_count = instance_count\n",
    ")"
   ]
  },
  {
   "cell_type": "code",
   "execution_count": 17,
   "id": "411560d0",
   "metadata": {},
   "outputs": [],
   "source": [
    "from os import listdir\n",
    "from os.path import isfile, join\n",
    "\n",
    "sample_dir ='../../../all-in-one-ai-sample-data/yolov5/train/images/test'\n",
    "files = [f for f in listdir(sample_dir) if isfile(join(sample_dir, f))]\n",
    "\n",
    "bytes  = open(join(sample_dir, files[0]), 'rb').read()"
   ]
  },
  {
   "cell_type": "code",
   "execution_count": null,
   "id": "cefc887e",
   "metadata": {},
   "outputs": [],
   "source": [
    "from sagemaker.serializers import DataSerializer \n",
    "from sagemaker.deserializers import JSONDeserializer\n",
    "\n",
    "predictor.serializer = DataSerializer()\n",
    "predictor.deserializer = JSONDeserializer()\n",
    "\n",
    "predictor.predict(bytes, initial_args={\"ContentType\":\"image/png\"})"
   ]
  },
  {
   "cell_type": "code",
   "execution_count": 19,
   "id": "fffe0bdb",
   "metadata": {},
   "outputs": [],
   "source": [
    "predictor.delete_endpoint()"
   ]
  },
  {
   "cell_type": "code",
   "execution_count": null,
   "id": "0d43e466",
   "metadata": {},
   "outputs": [],
   "source": []
  }
 ],
 "metadata": {
  "kernelspec": {
   "display_name": "Python 3",
   "language": "python",
   "name": "python3"
  },
  "language_info": {
   "codemirror_mode": {
    "name": "ipython",
    "version": 3
   },
   "file_extension": ".py",
   "mimetype": "text/x-python",
   "name": "python",
   "nbconvert_exporter": "python",
   "pygments_lexer": "ipython3",
   "version": "3.9.13 (main, May 24 2022, 21:28:31) \n[Clang 13.1.6 (clang-1316.0.21.2)]"
  },
  "vscode": {
   "interpreter": {
    "hash": "949777d72b0d2535278d3dc13498b2535136f6dfe0678499012e853ee9abcab1"
   }
  }
 },
 "nbformat": 4,
 "nbformat_minor": 5
}
