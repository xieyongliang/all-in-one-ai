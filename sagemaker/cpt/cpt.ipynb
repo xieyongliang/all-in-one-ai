{
 "cells": [
  {
   "cell_type": "code",
   "execution_count": null,
   "id": "a442a461",
   "metadata": {},
   "outputs": [],
   "source": [
    "#Prior to execute this notebook, please make sure you have already cloned the sample data\n",
    "#!git clone https://github.com/xieyongliang/all-in-one-ai-sample-data.git ../../../all-in-one-ai-sample-data"
   ]
  },
  {
   "cell_type": "code",
   "execution_count": 1,
   "id": "bb1d4f9e",
   "metadata": {},
   "outputs": [],
   "source": [
    "import sagemaker\n",
    "from sagemaker.huggingface import HuggingFace"
   ]
  },
  {
   "cell_type": "code",
   "execution_count": 2,
   "id": "c6cf85bc",
   "metadata": {},
   "outputs": [],
   "source": [
    "sagemaker_session = sagemaker.Session()\n",
    "bucket = sagemaker_session.default_bucket()\n",
    "role = sagemaker.get_execution_role()"
   ]
  },
  {
   "cell_type": "code",
   "execution_count": null,
   "id": "2dee6213",
   "metadata": {},
   "outputs": [],
   "source": [
    "!rm -rf sourcedir.tar.gz\n",
    "!tar czvf sourcedir.tar.gz *"
   ]
  },
  {
   "cell_type": "code",
   "execution_count": null,
   "id": "c54d943b",
   "metadata": {},
   "outputs": [],
   "source": [
    "source_dir = 's3://{0}/{1}/source/'.format(bucket, 'cpt')\n",
    "!aws s3 cp sourcedir.tar.gz $source_dir\n",
    "source_dir = '{0}sourcedir.tar.gz'.format(source_dir)\n",
    "!rm -f sourcedir.tar.gz"
   ]
  },
  {
   "cell_type": "code",
   "execution_count": null,
   "id": "10d7a95f",
   "metadata": {},
   "outputs": [],
   "source": [
    "train_dir = 's3://{0}/{1}/data/train'.format(bucket, 'cpt')\n",
    "!aws s3 cp ../../../all-in-one-ai-sample-data/cpt/train/ $train_dir --recursive"
   ]
  },
  {
   "cell_type": "code",
   "execution_count": 40,
   "id": "57a5f454",
   "metadata": {},
   "outputs": [],
   "source": [
    "job_name = None\n",
    "entry_point = 'train.py'\n",
    "git_config = None\n",
    "role = role\n",
    "hyperparameters = {\n",
    "    'model_name_or_path': 'fnlp/cpt-large',\n",
    "    'num_train_epochs': 10,\n",
    "    'per_device_train_batch_size': 4,   \n",
    "    'text_column': 'text',\n",
    "    'summary_column': 'summary',\n",
    "    'output_dir': '/opt/ml/model',\n",
    "    'train_file': '/opt/ml/input/data/dataset/train.json',\n",
    "    'validation_file':'/opt/ml/input/data/dataset/val.json',\n",
    "    'test_file': '/opt/ml/input/data/dataset/test.json',\n",
    "    'val_max_target_length': 80,\n",
    "    'path': 'json'\n",
    "}\n",
    "transformers_version = '4.12.3'\n",
    "py_version = 'py38'\n",
    "pytorch_version = '1.9.1'\n",
    "tensorflow_version = None\n",
    "instance_type = 'ml.g4dn.16xlarge'\n",
    "instance_count = 1\n",
    "inputs = {\n",
    "    'dataset': train_dir\n",
    "}"
   ]
  },
  {
   "cell_type": "code",
   "execution_count": 41,
   "id": "04dc6c35",
   "metadata": {},
   "outputs": [],
   "source": [
    "estimator = HuggingFace(\n",
    "    entry_point = entry_point,\n",
    "    source_dir = source_dir,\n",
    "    role = role,\n",
    "    debugger_hook_config = False,\n",
    "    hyperparameters = hyperparameters,\n",
    "    py_version = py_version,\n",
    "    transformers_version = transformers_version,\n",
    "    pytorch_version = pytorch_version,\n",
    "    instance_count = instance_count,  \n",
    "    instance_type = instance_type\n",
    ")"
   ]
  },
  {
   "cell_type": "code",
   "execution_count": null,
   "id": "e6f83a0b",
   "metadata": {},
   "outputs": [],
   "source": [
    "estimator.fit(inputs, job_name = job_name)"
   ]
  },
  {
   "cell_type": "code",
   "execution_count": null,
   "id": "c1f5f378",
   "metadata": {},
   "outputs": [],
   "source": [
    "training_job_name = estimator.latest_training_job.name"
   ]
  },
  {
   "cell_type": "code",
   "execution_count": 30,
   "id": "1388089d",
   "metadata": {},
   "outputs": [],
   "source": [
    "model_name = None\n",
    "model_data='s3://{}/{}/output/model.tar.gz'.format(bucket, training_job_name)\n",
    "entry_point = 'inference.py'\n",
    "framework_version = '1.9.0'\n",
    "py_version = 'py38'\n",
    "model_environment = {}"
   ]
  },
  {
   "cell_type": "code",
   "execution_count": 31,
   "id": "44a4dd18",
   "metadata": {},
   "outputs": [],
   "source": [
    "from sagemaker.pytorch.model import PyTorchModel\n",
    "\n",
    "model = PyTorchModel(\n",
    "    name = model_name,\n",
    "    model_data = model_data,\n",
    "    entry_point = entry_point,\n",
    "    source_dir = source_dir,\n",
    "    role = role,\n",
    "    framework_version = framework_version, \n",
    "    py_version = py_version,\n",
    "    env = model_environment\n",
    ")"
   ]
  },
  {
   "cell_type": "code",
   "execution_count": 32,
   "id": "f620af00",
   "metadata": {},
   "outputs": [],
   "source": [
    "endpoint_name = None\n",
    "instance_type = 'ml.m5.xlarge'\n",
    "instance_count = 1"
   ]
  },
  {
   "cell_type": "code",
   "execution_count": null,
   "id": "66fab9cf",
   "metadata": {},
   "outputs": [],
   "source": [
    "predictor = model.deploy(\n",
    "    endpoint_name = endpoint_name,\n",
    "    instance_type = instance_type, \n",
    "    initial_instance_count = instance_count\n",
    ")"
   ]
  },
  {
   "cell_type": "code",
   "execution_count": 35,
   "id": "56cb4d41",
   "metadata": {},
   "outputs": [],
   "source": [
    "from os import listdir\n",
    "from os.path import isfile, join\n",
    "\n",
    "sample_dir ='../../../all-in-one-ai-sample-data/cpt/inference/sample'\n",
    "files = [f for f in listdir(sample_dir) if isfile(join(sample_dir, f))]\n",
    "\n",
    "inputs  = open(join(sample_dir, files[0]), 'r').read()"
   ]
  },
  {
   "cell_type": "code",
   "execution_count": null,
   "id": "5c592928",
   "metadata": {},
   "outputs": [],
   "source": [
    "from sagemaker.serializers import JSONSerializer\n",
    "from sagemaker.deserializers import JSONDeserializer\n",
    "\n",
    "predictor.serializer = JSONSerializer()\n",
    "predictor.deserializer = JSONDeserializer()\n",
    "\n",
    "predictor.predict(\n",
    "    {\n",
    "        'inputs': inputs\n",
    "    }\n",
    ")"
   ]
  },
  {
   "cell_type": "code",
   "execution_count": 37,
   "id": "225d3268",
   "metadata": {},
   "outputs": [],
   "source": [
    "predictor.delete_endpoint()"
   ]
  },
  {
   "cell_type": "code",
   "execution_count": null,
   "id": "d86aa103",
   "metadata": {},
   "outputs": [],
   "source": []
  }
 ],
 "metadata": {
  "kernelspec": {
   "display_name": "Python 3.9.12 64-bit",
   "language": "python",
   "name": "python3"
  },
  "language_info": {
   "codemirror_mode": {
    "name": "ipython",
    "version": 3
   },
   "file_extension": ".py",
   "mimetype": "text/x-python",
   "name": "python",
   "nbconvert_exporter": "python",
   "pygments_lexer": "ipython3",
   "version": "3.9.13"
  },
  "vscode": {
   "interpreter": {
    "hash": "aee8b7b246df8f9039afb4144a1f6fd8d2ca17a180786b69acc140d282b71a49"
   }
  }
 },
 "nbformat": 4,
 "nbformat_minor": 5
}
