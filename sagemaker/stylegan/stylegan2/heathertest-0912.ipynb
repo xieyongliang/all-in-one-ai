{
 "cells": [
  {
   "cell_type": "code",
   "execution_count": null,
   "id": "e4730c0c",
   "metadata": {},
   "outputs": [],
   "source": [
    "from sagemaker.estimator import Estimator\n",
    "from sagemaker import get_execution_role\n",
    "import json\n",
    "params = {\"data\": \"/opt/ml/input/data/training/animeface.zip\",\n",
    "                   \"gpus\": 1,\n",
    "                   \"augpipe\": \"bg\",\n",
    "                   \"gamma\": 10,\n",
    "                   \"cfg\": \"paper256\", \n",
    "                   \"mirror\": 1, \n",
    "                   \"snap\": 10,\n",
    "                   \"metrics\": \"none\",\n",
    "                   \"outdir\": \"/opt/ml/output/model\"}\n",
    "\n",
    "def json_encode_hyperparameters(hyperparameters):\n",
    "    return {str(k): json.dumps(v) for (k, v) in hyperparameters.items()}\n",
    "\n",
    "hyperparameters = json_encode_hyperparameters(params)\n",
    "\n",
    "role = get_execution_role()\n",
    "\n",
    "estimator = Estimator(\n",
    "    role=role,\n",
    "    train_instance_count=1,\n",
    "    train_instance_type='ml.p3.2xlarge',\n",
    "    image_uri='357224784104.dkr.ecr.us-west-2.amazonaws.com/blogstylegan2',\n",
    "    hyperparameters=hyperparameters\n",
    ")\n",
    "\n",
    "estimator.fit({'training': \"s3://heather-datasets/animeface.zip\"})"
   ]
  },
  {
   "cell_type": "code",
   "execution_count": null,
   "id": "9da1ae83",
   "metadata": {},
   "outputs": [],
   "source": [
    "python projector.py --outdir=out --target=~/mytargetimg.png \\\n",
    "    --network=https://nvlabs-fi-cdn.nvidia.com/stylegan2-ada-pytorch/pretrained/ffhq.pkl"
   ]
  },
  {
   "cell_type": "code",
   "execution_count": 6,
   "id": "49305d85",
   "metadata": {},
   "outputs": [
    {
     "name": "stdout",
     "output_type": "stream",
     "text": [
      "upload: ./target.jpg to s3://heather-datasets/target.jpg          \n"
     ]
    }
   ],
   "source": [
    "!aws s3 cp target.jpg s3://heather-datasets/"
   ]
  },
  {
   "cell_type": "code",
   "execution_count": null,
   "id": "aaad0b1b",
   "metadata": {},
   "outputs": [
    {
     "name": "stdout",
     "output_type": "stream",
     "text": [
      "2022-09-12 08:38:00 Starting - Starting the training job...\n",
      "2022-09-12 08:38:26 Starting - Preparing the instances for trainingProfilerReport-1662971880: InProgress\n",
      ".........\n",
      "2022-09-12 08:40:00 Downloading - Downloading input data\n",
      "2022-09-12 08:40:00 Training - Downloading the training image.................................\n",
      "2022-09-12 08:45:25 Training - Training image download completed. Training in progress.\u001b[34mbash: cannot set terminal process group (-1): Inappropriate ioctl for device\u001b[0m\n",
      "\u001b[34mbash: no job control in this shell\u001b[0m\n",
      "\u001b[34m2022-09-12 08:45:21,406 sagemaker-training-toolkit INFO     Imported framework sagemaker_pytorch_container.training\u001b[0m\n",
      "\u001b[34m2022-09-12 08:45:21,435 sagemaker_pytorch_container.training INFO     Block until all host DNS lookups succeed.\u001b[0m\n",
      "\u001b[34m2022-09-12 08:45:21,443 sagemaker_pytorch_container.training INFO     Invoking user training script.\u001b[0m\n",
      "\u001b[34m2022-09-12 08:45:27,837 sagemaker-training-toolkit INFO     Installing dependencies from requirements.txt:\u001b[0m\n",
      "\u001b[34m/opt/conda/bin/python3.6 -m pip install -r requirements.txt\u001b[0m\n",
      "\u001b[34mRequirement already satisfied: click in /opt/conda/lib/python3.6/site-packages (from -r requirements.txt (line 1)) (8.0.3)\u001b[0m\n",
      "\u001b[34mRequirement already satisfied: requests in /opt/conda/lib/python3.6/site-packages (from -r requirements.txt (line 2)) (2.26.0)\u001b[0m\n",
      "\u001b[34mRequirement already satisfied: tqdm in /opt/conda/lib/python3.6/site-packages (from -r requirements.txt (line 3)) (4.61.2)\u001b[0m\n",
      "\u001b[34mCollecting pyspng\n",
      "  Downloading pyspng-0.1.0-cp36-cp36m-manylinux2010_x86_64.whl (195 kB)\u001b[0m\n",
      "\u001b[34mCollecting ninja\n",
      "  Downloading ninja-1.10.2.3-py2.py3-none-manylinux_2_5_x86_64.manylinux1_x86_64.whl (108 kB)\u001b[0m\n",
      "\u001b[34mCollecting imageio-ffmpeg==0.4.3\n",
      "  Downloading imageio_ffmpeg-0.4.3-py3-none-manylinux2010_x86_64.whl (26.9 MB)\u001b[0m\n",
      "\u001b[34mRequirement already satisfied: importlib-metadata in /opt/conda/lib/python3.6/site-packages (from click->-r requirements.txt (line 1)) (4.8.3)\u001b[0m\n",
      "\u001b[34mRequirement already satisfied: certifi>=2017.4.17 in /opt/conda/lib/python3.6/site-packages (from requests->-r requirements.txt (line 2)) (2021.5.30)\u001b[0m\n",
      "\u001b[34mRequirement already satisfied: charset-normalizer~=2.0.0 in /opt/conda/lib/python3.6/site-packages (from requests->-r requirements.txt (line 2)) (2.0.4)\u001b[0m\n",
      "\u001b[34mRequirement already satisfied: urllib3<1.27,>=1.21.1 in /opt/conda/lib/python3.6/site-packages (from requests->-r requirements.txt (line 2)) (1.26.6)\u001b[0m\n",
      "\u001b[34mRequirement already satisfied: idna<4,>=2.5 in /opt/conda/lib/python3.6/site-packages (from requests->-r requirements.txt (line 2)) (2.10)\u001b[0m\n",
      "\u001b[34mRequirement already satisfied: numpy in /opt/conda/lib/python3.6/site-packages (from pyspng->-r requirements.txt (line 4)) (1.19.1)\u001b[0m\n",
      "\u001b[34mRequirement already satisfied: zipp>=0.5 in /opt/conda/lib/python3.6/site-packages (from importlib-metadata->click->-r requirements.txt (line 1)) (3.6.0)\u001b[0m\n",
      "\u001b[34mRequirement already satisfied: typing-extensions>=3.6.4 in /opt/conda/lib/python3.6/site-packages (from importlib-metadata->click->-r requirements.txt (line 1)) (3.10.0.2)\u001b[0m\n",
      "\u001b[34mInstalling collected packages: pyspng, ninja, imageio-ffmpeg\u001b[0m\n"
     ]
    }
   ],
   "source": [
    "from sagemaker.pytorch import PyTorch\n",
    "from sagemaker import get_execution_role\n",
    "import json\n",
    "params = {\"outdir\": \"/opt/ml/model\",'target': \"/opt/ml/input/data/training/target.jpg\",'network': \"https://nvlabs-fi-cdn.nvidia.com/stylegan2-ada-pytorch/pretrained/ffhq.pkl\"}\n",
    "\n",
    "def json_encode_hyperparameters(hyperparameters):\n",
    "    return {str(k): json.dumps(v) for (k, v) in hyperparameters.items()}\n",
    "hyperparameters = json_encode_hyperparameters(params)\n",
    "role = get_execution_role()\n",
    "pytorch_estimator = PyTorch('projector.py',\n",
    "                            source_dir = '.',\n",
    "                            role=role,\n",
    "                            instance_type='ml.p3.2xlarge',\n",
    "                            instance_count=1,\n",
    "                            framework_version='1.8.1',\n",
    "                            py_version='py3',\n",
    "                            hyperparameters = hyperparameters)\n",
    "pytorch_estimator.fit({'train':'s3://heather-datasets/target.jpg'})"
   ]
  },
  {
   "cell_type": "code",
   "execution_count": null,
   "id": "d2a6e372",
   "metadata": {},
   "outputs": [],
   "source": []
  }
 ],
 "metadata": {
  "kernelspec": {
   "display_name": "conda_pytorch_p38",
   "language": "python",
   "name": "conda_pytorch_p38"
  },
  "language_info": {
   "codemirror_mode": {
    "name": "ipython",
    "version": 3
   },
   "file_extension": ".py",
   "mimetype": "text/x-python",
   "name": "python",
   "nbconvert_exporter": "python",
   "pygments_lexer": "ipython3",
   "version": "3.8.12"
  }
 },
 "nbformat": 4,
 "nbformat_minor": 5
}
