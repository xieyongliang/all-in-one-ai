{
 "cells": [
  {
   "cell_type": "code",
   "execution_count": null,
   "id": "b8a447b3",
   "metadata": {},
   "outputs": [],
   "source": [
    "#Prior to execute this notebook, please make sure you have already cloned the sample data\n",
    "#!git clone https://github.com/xieyongliang/all-in-one-ai-sample-data.git ../../../all-in-one-ai-sample-data"
   ]
  },
  {
   "cell_type": "code",
   "execution_count": null,
   "id": "45d508f8",
   "metadata": {},
   "outputs": [],
   "source": [
    "import sagemaker\n",
    "from sagemaker.estimator import Estimator"
   ]
  },
  {
   "cell_type": "code",
   "execution_count": null,
   "id": "6e148e25",
   "metadata": {},
   "outputs": [],
   "source": [
    "sagemaker_session = sagemaker.Session()\n",
    "bucket = sagemaker_session.default_bucket()\n",
    "role = sagemaker.get_execution_role()"
   ]
  },
  {
   "cell_type": "code",
   "execution_count": null,
   "id": "babd4614",
   "metadata": {},
   "outputs": [],
   "source": [
    "import boto3\n",
    "account_id = boto3.client('sts').get_caller_identity().get('Account')\n",
    "region_name = boto3.session.Session().region_name"
   ]
  },
  {
   "cell_type": "code",
   "execution_count": null,
   "id": "57deab4a",
   "metadata": {},
   "outputs": [],
   "source": [
    "!./build_and_push.sh $region_name"
   ]
  },
  {
   "cell_type": "code",
   "execution_count": null,
   "id": "3ebd29a2",
   "metadata": {},
   "outputs": [],
   "source": [
    "train_dir = 's3://{0}/{1}/data/train'.format(bucket, 'stylegan')\n",
    "!aws s3 cp ../../../all-in-one-ai-sample-data/stylegan/train/ $train_dir --recursive"
   ]
  },
  {
   "cell_type": "code",
   "execution_count": null,
   "id": "2af614bc",
   "metadata": {},
   "outputs": [],
   "source": [
    "hyperparameters = {\n",
    "    \"data\": \"/opt/ml/input/data/dataset/animeface.zip\",\n",
    "    \"outdir\": \"/opt/ml/model\",\n",
    "    \"gpus\": \"8\",\n",
    "    \"kimg\": \"1000\"\n",
    "}\n",
    "image_uri = '{0}.dkr.ecr.{1}.amazonaws.com/all-in-one-ai-stylegan-training'.format(account_id, region_name)\n",
    "instance_type = 'ml.p3.16xlarge'\n",
    "instance_count = 1\n",
    "inputs = {\n",
    "    'dataset': train_dir\n",
    "}"
   ]
  },
  {
   "cell_type": "code",
   "execution_count": null,
   "id": "ceacc540",
   "metadata": {},
   "outputs": [],
   "source": [
    "estimator = Estimator(\n",
    "    role = role,\n",
    "    instance_count=1,\n",
    "    instance_type = instance_type,\n",
    "    image_uri = image_uri,\n",
    "    hyperparameters=hyperparameters\n",
    ")"
   ]
  },
  {
   "cell_type": "code",
   "execution_count": null,
   "id": "41c16c7e",
   "metadata": {},
   "outputs": [],
   "source": [
    "estimator.fit(inputs)"
   ]
  },
  {
   "cell_type": "code",
   "execution_count": null,
   "id": "eb1a0a36",
   "metadata": {},
   "outputs": [],
   "source": [
    "training_job_name = estimator.latest_training_job.name"
   ]
  },
  {
   "cell_type": "code",
   "execution_count": null,
   "id": "64c39a86",
   "metadata": {},
   "outputs": [],
   "source": [
    "model_name = None\n",
    "model_data = 's3://{}/{}/output/model.tar.gz'.format(bucket, training_job_name)\n",
    "image_uri = '{0}.dkr.ecr.{1}.amazonaws.com/all-in-one-ai-stylegan-inference:latest'.format(account_id, region_name)\n",
    "model_environment = {\n",
    "    #'network':'https://nvlabs-fi-cdn.nvidia.com/stylegan2-ada-pytorch/pretrained/metfaces.pkl'\n",
    "}"
   ]
  },
  {
   "cell_type": "code",
   "execution_count": null,
   "id": "c9066139",
   "metadata": {},
   "outputs": [],
   "source": [
    "from sagemaker.model import Model\n",
    "from sagemaker.predictor import Predictor"
   ]
  },
  {
   "cell_type": "code",
   "execution_count": null,
   "id": "277c0b20",
   "metadata": {},
   "outputs": [],
   "source": [
    "model = Model(\n",
    "    name = model_name,\n",
    "    model_data = model_data,\n",
    "    role = role,\n",
    "    image_uri = image_uri,\n",
    "    env = model_environment,\n",
    "    predictor_cls = Predictor\n",
    ")"
   ]
  },
  {
   "cell_type": "code",
   "execution_count": null,
   "id": "0ef88a51",
   "metadata": {},
   "outputs": [],
   "source": [
    "endpoint_name = None\n",
    "instance_type = 'ml.m5.xlarge'\n",
    "instance_count = 1"
   ]
  },
  {
   "cell_type": "code",
   "execution_count": null,
   "id": "5adbe6f7",
   "metadata": {},
   "outputs": [],
   "source": [
    "predictor = model.deploy(\n",
    "    endpoint_name = endpoint_name,\n",
    "    instance_type = instance_type, \n",
    "    initial_instance_count = instance_count\n",
    ")"
   ]
  },
  {
   "cell_type": "code",
   "execution_count": null,
   "id": "4735f33f",
   "metadata": {},
   "outputs": [],
   "source": [
    "from sagemaker.serializers import JSONSerializer\n",
    "from sagemaker.deserializers import JSONDeserializer\n",
    "\n",
    "predictor.serializer = JSONSerializer()\n",
    "predictor.deserializer = JSONDeserializer()\n",
    "\n",
    "inputs = {\n",
    "    'trunc': '1',\n",
    "    'seeds': '85,265,297,849',\n",
    "    'output_s3uri': 's3://{0}/{1}/data/inference/output'.format(bucket, 'stylegan')\n",
    "}\n",
    "\n",
    "predictor.predict(\n",
    "    {\n",
    "        'inputs': inputs\n",
    "    }\n",
    ")"
   ]
  },
  {
   "cell_type": "code",
   "execution_count": null,
   "id": "b415aa66",
   "metadata": {},
   "outputs": [],
   "source": [
    "predictor.delete_endpoint()"
   ]
  }
 ],
 "metadata": {
  "kernelspec": {
   "display_name": "Python 3",
   "language": "python",
   "name": "python3"
  },
  "language_info": {
   "codemirror_mode": {
    "name": "ipython",
    "version": 3
   },
   "file_extension": ".py",
   "mimetype": "text/x-python",
   "name": "python",
   "nbconvert_exporter": "python",
   "pygments_lexer": "ipython3",
   "version": "3.9.13 (main, May 24 2022, 21:28:31) \n[Clang 13.1.6 (clang-1316.0.21.2)]"
  },
  "vscode": {
   "interpreter": {
    "hash": "949777d72b0d2535278d3dc13498b2535136f6dfe0678499012e853ee9abcab1"
   }
  }
 },
 "nbformat": 4,
 "nbformat_minor": 5
}
