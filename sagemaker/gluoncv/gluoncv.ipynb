{
 "cells": [
  {
   "cell_type": "code",
   "execution_count": 1,
   "id": "af7168e4",
   "metadata": {},
   "outputs": [],
   "source": [
    "#Prior to execute this notebook, please make sure you have already cloned the sample data\n",
    "#!git clone https://github.com/xieyongliang/all-in-one-ai-sample-data.git -t ../../.."
   ]
  },
  {
   "cell_type": "code",
   "execution_count": 2,
   "id": "1083b3a1",
   "metadata": {},
   "outputs": [],
   "source": [
    "import os\n",
    "import sagemaker\n",
    "from sagemaker.mxnet import MXNet"
   ]
  },
  {
   "cell_type": "code",
   "execution_count": 3,
   "id": "5721b453",
   "metadata": {},
   "outputs": [],
   "source": [
    "sagemaker_session = sagemaker.Session()\n",
    "bucket = sagemaker_session.default_bucket()\n",
    "role = sagemaker.get_execution_role()"
   ]
  },
  {
   "cell_type": "code",
   "execution_count": null,
   "id": "b594baa7",
   "metadata": {},
   "outputs": [],
   "source": [
    "!rm -rf sourcedir.tar.gz\n",
    "!tar czvf sourcedir.tar.gz *"
   ]
  },
  {
   "cell_type": "code",
   "execution_count": 5,
   "id": "2d3dcb59",
   "metadata": {},
   "outputs": [
    {
     "name": "stdout",
     "output_type": "stream",
     "text": [
      "upload: ./sourcedir.tar.gz to s3://sagemaker-ap-east-1-034068151705/gluoncv/source/sourcedir.tar.gz\n"
     ]
    }
   ],
   "source": [
    "source_dir = 's3://{0}/{1}/source/'.format(bucket, 'gluoncv')\n",
    "!aws s3 cp sourcedir.tar.gz $source_dir\n",
    "source_dir = '{0}sourcedir.tar.gz'.format(source_dir)\n",
    "!rm -f sourcedir.tar.gz"
   ]
  },
  {
   "cell_type": "code",
   "execution_count": null,
   "id": "b58846ae",
   "metadata": {},
   "outputs": [],
   "source": [
    "train_dir = 's3://{0}/{1}/data/train'.format(bucket, 'gluoncv')\n",
    "!cd ../../../all-in-one-ai-sample-data/gluoncv/\n",
    "!bash ./build.sh\n",
    "!aws s3 cp test $train_dir/test/ --recursive\n",
    "!aws s3 cp train $train_dir/train/ --recursive"
   ]
  },
  {
   "cell_type": "code",
   "execution_count": 14,
   "id": "1b12beaa",
   "metadata": {},
   "outputs": [],
   "source": [
    "job_name = None\n",
    "entry_point = 'finetune.py'\n",
    "git_config = None\n",
    "role = role\n",
    "hyperparameters = {\n",
    "    'classes': 101, \n",
    "    'batch_size': 8,\n",
    "    'epochs': 20, \n",
    "    'learning_rate': 0.001,\n",
    "    'momentum': 0.9,\n",
    "    'wd': 0.0001,\n",
    "    'num_workers': 8,\n",
    "    'model_name': 'ResNet50_v2'}\n",
    "framework_version = '1.8.0'\n",
    "py_version = 'py37'\n",
    "instance_type = 'ml.g4dn.16xlarge'\n",
    "instance_count = 1\n",
    "inputs = {\n",
    "    'train': train_dir,\n",
    "    'test': train_dir,\n",
    "    'val': train_dir\n",
    "}"
   ]
  },
  {
   "cell_type": "code",
   "execution_count": 15,
   "id": "944133a4",
   "metadata": {},
   "outputs": [],
   "source": [
    "estimator = MXNet(\n",
    "    entry_point = entry_point,\n",
    "    source_dir = source_dir,\n",
    "    role = role,\n",
    "    debugger_hook_config = False,\n",
    "    hyperparameters = hyperparameters,\n",
    "    framework_version = framework_version, \n",
    "    py_version = py_version,\n",
    "    instance_type = instance_type,\n",
    "    instance_count = instance_count\n",
    ")"
   ]
  },
  {
   "cell_type": "code",
   "execution_count": null,
   "id": "0da02ef2",
   "metadata": {},
   "outputs": [],
   "source": [
    "estimator.fit(inputs, job_name = job_name)"
   ]
  },
  {
   "cell_type": "code",
   "execution_count": 17,
   "id": "cc99fde0",
   "metadata": {},
   "outputs": [],
   "source": [
    "training_job_name = estimator.latest_training_job.name"
   ]
  },
  {
   "cell_type": "code",
   "execution_count": 22,
   "id": "075b837a",
   "metadata": {},
   "outputs": [],
   "source": [
    "model_name = None\n",
    "model_data='s3://{}/{}/output/model.tar.gz'.format(bucket, training_job_name)\n",
    "entry_point = 'inference.py'\n",
    "framework_version = '1.9.0'\n",
    "py_version = 'py38'\n",
    "model_environment = {\n",
    "    'classes': '101'\n",
    "}"
   ]
  },
  {
   "cell_type": "code",
   "execution_count": 23,
   "id": "dde8e35d",
   "metadata": {},
   "outputs": [],
   "source": [
    "from sagemaker.mxnet.model import MXNetModel\n",
    "\n",
    "model = MXNetModel(\n",
    "    name = model_name,\n",
    "    model_data = model_data,\n",
    "    entry_point = entry_point,\n",
    "    source_dir = source_dir,\n",
    "    role = role,\n",
    "    framework_version = framework_version, \n",
    "    py_version = py_version,\n",
    "    env = model_environment\n",
    ")"
   ]
  },
  {
   "cell_type": "code",
   "execution_count": 24,
   "id": "04fe6d2c",
   "metadata": {},
   "outputs": [],
   "source": [
    "endpoint_name = None\n",
    "instance_type = 'ml.m5.xlarge'\n",
    "instance_count = 1"
   ]
  },
  {
   "cell_type": "code",
   "execution_count": null,
   "id": "d2f3e2a5",
   "metadata": {},
   "outputs": [],
   "source": [
    "predictor = model.deploy(\n",
    "    endpoint_name = endpoint_name,\n",
    "    instance_type = instance_type, \n",
    "    initial_instance_count = instance_count\n",
    ")"
   ]
  },
  {
   "cell_type": "code",
   "execution_count": 27,
   "id": "168f811f",
   "metadata": {},
   "outputs": [],
   "source": [
    "from os import listdir\n",
    "from os.path import isfile, join\n",
    "\n",
    "sample_dir ='../../../all-in-one-ai-sample-data/gluoncv/images/chocolate_cake'\n",
    "files = [f for f in listdir(sample_dir) if isfile(join(sample_dir, f))]\n",
    "\n",
    "bytes  = open(join(sample_dir, files[0]), 'rb').read()"
   ]
  },
  {
   "cell_type": "code",
   "execution_count": null,
   "id": "77a68f61",
   "metadata": {},
   "outputs": [],
   "source": [
    "from sagemaker.serializers import DataSerializer \n",
    "from sagemaker.deserializers import JSONDeserializer\n",
    "\n",
    "predictor.serializer = DataSerializer()\n",
    "predictor.deserializer = JSONDeserializer()\n",
    "\n",
    "predictor.predict(bytes, initial_args={\"ContentType\":\"image/png\"})"
   ]
  },
  {
   "cell_type": "code",
   "execution_count": null,
   "id": "03827e67",
   "metadata": {},
   "outputs": [],
   "source": [
    "predictor.delete_endpoint()"
   ]
  },
  {
   "cell_type": "code",
   "execution_count": null,
   "id": "64f7e17f",
   "metadata": {},
   "outputs": [],
   "source": []
  }
 ],
 "metadata": {
  "kernelspec": {
   "display_name": "Python 3.9.12 64-bit",
   "language": "python",
   "name": "python3"
  },
  "language_info": {
   "codemirror_mode": {
    "name": "ipython",
    "version": 3
   },
   "file_extension": ".py",
   "mimetype": "text/x-python",
   "name": "python",
   "nbconvert_exporter": "python",
   "pygments_lexer": "ipython3",
   "version": "3.9.13"
  },
  "vscode": {
   "interpreter": {
    "hash": "aee8b7b246df8f9039afb4144a1f6fd8d2ca17a180786b69acc140d282b71a49"
   }
  }
 },
 "nbformat": 4,
 "nbformat_minor": 5
}
