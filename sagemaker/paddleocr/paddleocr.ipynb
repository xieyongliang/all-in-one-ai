{
 "cells": [
  {
   "cell_type": "code",
   "execution_count": 51,
   "id": "d89eab6d",
   "metadata": {},
   "outputs": [],
   "source": [
    "#Prior to execute this notebook, please make sure you have already cloned the sample data\n",
    "#!git clone https://github.com/xieyongliang/all-in-one-ai-sample-data.git -t ../../.."
   ]
  },
  {
   "cell_type": "code",
   "execution_count": 61,
   "id": "8c692f1e",
   "metadata": {},
   "outputs": [],
   "source": [
    "import sagemaker\n",
    "from sagemaker.tensorflow import TensorFlow"
   ]
  },
  {
   "cell_type": "code",
   "execution_count": 53,
   "id": "fe56e3f4",
   "metadata": {},
   "outputs": [],
   "source": [
    "sagemaker_session = sagemaker.Session()\n",
    "bucket = sagemaker_session.default_bucket()\n",
    "role = sagemaker.get_execution_role()"
   ]
  },
  {
   "cell_type": "code",
   "execution_count": null,
   "id": "f60e9f7d",
   "metadata": {},
   "outputs": [],
   "source": [
    "!rm -rf sourcedir.tar.gz\n",
    "!tar czvf sourcedir.tar.gz *"
   ]
  },
  {
   "cell_type": "code",
   "execution_count": null,
   "id": "125915c2",
   "metadata": {},
   "outputs": [],
   "source": [
    "source_dir = 's3://{0}/{1}/source/'.format(bucket, 'paddleocr')\n",
    "!aws s3 cp sourcedir.tar.gz $source_dir\n",
    "source_dir = '{0}sourcedir.tar.gz'.format(source_dir)\n",
    "!rm -f sourcedir.tar.gz"
   ]
  },
  {
   "cell_type": "code",
   "execution_count": null,
   "id": "fe5b5475",
   "metadata": {},
   "outputs": [],
   "source": [
    "dataset_dir = 's3://{0}/{1}/data/dataset'.format(bucket, 'paddleocr')\n",
    "!aws s3 cp ../../../all-in-one-ai-sample-data/paddleocr/train/ $dataset_dir --recursive"
   ]
  },
  {
   "cell_type": "code",
   "execution_count": null,
   "id": "fd55a6d2",
   "metadata": {},
   "outputs": [],
   "source": [
    "pretrain_models_dir = 's3://{0}/{1}/data/pretrain_models'.format(bucket, 'paddleocr')\n",
    "!mkdir -p pretrain_models\n",
    "!wget -P ./pretrain_models/ https://paddleocr.bj.bcebos.com/pretrained/MobileNetV3_large_x0_5_pretrained.pdparams\n",
    "!wget -P ./pretrain_models/ https://paddleocr.bj.bcebos.com/pretrained/ResNet18_vd_pretrained.pdparams\n",
    "!wget -P ./pretrain_models/ https://paddleocr.bj.bcebos.com/pretrained/ResNet50_vd_ssld_pretrained.pdparams\n",
    "!aws s3 cp pretrain_models $pretrain_models_dir --recursive\n",
    "!rm -rf pretrain_models"
   ]
  },
  {
   "cell_type": "code",
   "execution_count": 62,
   "id": "ab0313f1",
   "metadata": {},
   "outputs": [],
   "source": [
    "job_name = None\n",
    "entry_point = 'train.py'\n",
    "git_config = None\n",
    "role = role\n",
    "hyperparameters = {\n",
    "    'c': '/opt/ml/input/data/dataset/configs/det/det_mv3_db.yml'\n",
    "}\n",
    "framework_version = '2.2.2'\n",
    "py_version = 'py37'\n",
    "instance_type = 'ml.g4dn.16xlarge'\n",
    "instance_count = 1\n",
    "inputs = {\n",
    "    'dataset': dataset_dir,\n",
    "    'pretrained_models': pretrain_models_dir\n",
    "}"
   ]
  },
  {
   "cell_type": "code",
   "execution_count": 64,
   "id": "f7bc28f1",
   "metadata": {},
   "outputs": [],
   "source": [
    "estimator = TensorFlow(\n",
    "    entry_point = entry_point,\n",
    "    source_dir = source_dir,\n",
    "    git_config = git_config,\n",
    "    role = role,\n",
    "    debugger_hook_config = False,\n",
    "    hyperparameters = hyperparameters,\n",
    "    framework_version = framework_version, \n",
    "    py_version = py_version,\n",
    "    instance_type = instance_type,\n",
    "    instance_count = instance_count\n",
    ")"
   ]
  },
  {
   "cell_type": "code",
   "execution_count": null,
   "id": "3a637306",
   "metadata": {},
   "outputs": [],
   "source": [
    "estimator.fit(inputs, job_name = job_name)"
   ]
  },
  {
   "cell_type": "code",
   "execution_count": null,
   "id": "fb767fb1",
   "metadata": {},
   "outputs": [],
   "source": [
    "training_job_name = estimator.latest_training_job.name"
   ]
  },
  {
   "cell_type": "code",
   "execution_count": null,
   "id": "50f470fe",
   "metadata": {},
   "outputs": [],
   "source": [
    "!touch dummy\n",
    "!tar czvf model.tar.gz dummy\n",
    "assets_dir = 's3://{0}/{1}/assets/'.format(bucket, 'paddleocr')\n",
    "model_data = 's3://{0}/{1}/assets/model.tar.gz'.format(bucket, 'paddleocr')\n",
    "!aws s3 cp model.tar.gz $assets_dir\n",
    "!rm -f dummy model.tar.gz"
   ]
  },
  {
   "cell_type": "code",
   "execution_count": 13,
   "id": "ee27bc4a",
   "metadata": {},
   "outputs": [],
   "source": [
    "model_name = None\n",
    "model_data = model_data\n",
    "entry_point = 'inference.py'\n",
    "framework_version = '1.9.0'\n",
    "py_version = 'py38'\n",
    "model_environment = {}"
   ]
  },
  {
   "cell_type": "code",
   "execution_count": 24,
   "id": "f70580a3",
   "metadata": {},
   "outputs": [],
   "source": [
    "from sagemaker.pytorch.model import PyTorchModel\n",
    "\n",
    "model = PyTorchModel(\n",
    "    name = model_name,\n",
    "    model_data = model_data,\n",
    "    entry_point = entry_point,\n",
    "    source_dir = source_dir,\n",
    "    role = role,\n",
    "    framework_version = framework_version, \n",
    "    py_version = py_version,\n",
    "    env = model_environment\n",
    ")"
   ]
  },
  {
   "cell_type": "code",
   "execution_count": 25,
   "id": "d24654fd",
   "metadata": {},
   "outputs": [],
   "source": [
    "endpoint_name = None\n",
    "instance_type = 'ml.m5.xlarge'\n",
    "instance_count = 1"
   ]
  },
  {
   "cell_type": "code",
   "execution_count": null,
   "id": "0db90791",
   "metadata": {},
   "outputs": [],
   "source": [
    "predictor = model.deploy(\n",
    "    endpoint_name = endpoint_name,\n",
    "    instance_type = instance_type, \n",
    "    initial_instance_count = instance_count\n",
    ")"
   ]
  },
  {
   "cell_type": "code",
   "execution_count": 48,
   "id": "37f00f86",
   "metadata": {},
   "outputs": [],
   "source": [
    "from os import listdir\n",
    "from os.path import isfile, join\n",
    "\n",
    "sample_dir ='../../../all-in-one-ai-sample-data/paddleocr/inference'\n",
    "files = [f for f in listdir(sample_dir) if isfile(join(sample_dir, f)) and (f.endswith('png') or f.endswith('jpg') or f.endswith('.jpeg'))]\n",
    "\n",
    "bytes  = open(join(sample_dir, files[0]), 'rb').read()"
   ]
  },
  {
   "cell_type": "code",
   "execution_count": null,
   "id": "36961066",
   "metadata": {},
   "outputs": [],
   "source": [
    "from sagemaker.serializers import DataSerializer \n",
    "from sagemaker.deserializers import JSONDeserializer\n",
    "\n",
    "predictor.serializer = DataSerializer()\n",
    "predictor.deserializer = JSONDeserializer()\n",
    "\n",
    "predictor.predict(bytes, initial_args={\"ContentType\":\"image/png\"})"
   ]
  },
  {
   "cell_type": "code",
   "execution_count": null,
   "id": "1f85120c",
   "metadata": {},
   "outputs": [],
   "source": [
    "predictor.delete_endpoint()"
   ]
  }
 ],
 "metadata": {
  "kernelspec": {
   "display_name": "Python 3.9.12 64-bit",
   "language": "python",
   "name": "python3"
  },
  "language_info": {
   "codemirror_mode": {
    "name": "ipython",
    "version": 3
   },
   "file_extension": ".py",
   "mimetype": "text/x-python",
   "name": "python",
   "nbconvert_exporter": "python",
   "pygments_lexer": "ipython3",
   "version": "3.9.13"
  },
  "vscode": {
   "interpreter": {
    "hash": "aee8b7b246df8f9039afb4144a1f6fd8d2ca17a180786b69acc140d282b71a49"
   }
  }
 },
 "nbformat": 4,
 "nbformat_minor": 5
}
